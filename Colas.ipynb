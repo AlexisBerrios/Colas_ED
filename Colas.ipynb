{
  "nbformat": 4,
  "nbformat_minor": 0,
  "metadata": {
    "colab": {
      "name": "Colas.ipynb",
      "provenance": []
    },
    "kernelspec": {
      "name": "python3",
      "display_name": "Python 3"
    },
    "language_info": {
      "name": "python"
    }
  },
  "cells": [
    {
      "cell_type": "code",
      "metadata": {
        "id": "sIDWHsiIUs2g"
      },
      "source": [
        "class Queue:\n",
        "    def __init__( self ):\n",
        "        self.data = []\n",
        "\n",
        "    def is_empty( self ):\n",
        "        return len(self.data) == 0\n",
        "\n",
        "    def length ( self ):\n",
        "        return len( self.data )\n",
        "\n",
        "    def enqueue( self, value ):\n",
        "        self.data.append(value)\n",
        "\n",
        "    def dequeue( self ):\n",
        "        return self.data.pop(0)\n",
        "    \n",
        "    def to_string( self ):\n",
        "        for elem in self.data:\n",
        "            print(f\"| { elem } |<--\", end=\"\")\n",
        "        print(\"\")"
      ],
      "execution_count": 7,
      "outputs": []
    },
    {
      "cell_type": "code",
      "metadata": {
        "colab": {
          "base_uri": "https://localhost:8080/"
        },
        "id": "gBM2u7QeU2Vl",
        "outputId": "475afd6a-0204-439c-b5dc-86e5df12bbb0"
      },
      "source": [
        "cola = Queue()\n",
        "print(\"¿Está vacio? : \" , cola.is_empty() )\n",
        "print(\"numero de elementos =\" , cola.length() )\n",
        "cola.enqueue(10)\n",
        "cola.enqueue(20)\n",
        "cola.enqueue(30)\n",
        "print(\"¿Está vacio? : \" , cola.is_empty() )\n",
        "print(\"numero de elementos =\" , cola.length() )\n",
        "cola.enqueue(40)\n",
        "cola.enqueue(50)\n",
        "cola.enqueue(60)\n",
        "cola.to_string()\n",
        "\n",
        "siguiente = cola.dequeue()\n",
        "print(\"Atendiendo a:\" , siguiente)\n",
        "cola.to_string()"
      ],
      "execution_count": 13,
      "outputs": [
        {
          "output_type": "stream",
          "name": "stdout",
          "text": [
            "¿Está vacio? :  True\n",
            "numero de elementos = 0\n",
            "¿Está vacio? :  False\n",
            "numero de elementos = 3\n",
            "| 10 |<--| 20 |<--| 30 |<--| 40 |<--| 50 |<--| 60 |<--\n",
            "Atendiendo a: 10\n",
            "| 20 |<--| 30 |<--| 40 |<--| 50 |<--| 60 |<--\n"
          ]
        }
      ]
    }
  ]
}